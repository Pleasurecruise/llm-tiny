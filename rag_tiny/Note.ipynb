{
 "cells": [
  {
   "cell_type": "markdown",
   "id": "a78d24da-e895-401e-b3df-764af3b88fa2",
   "metadata": {},
   "source": [
    "## RAG Retrieval-Augmented Generation\n",
    "Including part\n",
    "\n",
    "· Embeddings Turn the information into vectors for LLM to process (vectorization)\n",
    "\n",
    "· LLM export the message\n",
    "\n",
    "· VectorBase Store the processed data\n",
    "\n",
    "· Utils Read and cut files, get information\n"
   ]
  }
 ],
 "metadata": {
  "kernelspec": {
   "display_name": "Python 3 (ipykernel)",
   "language": "python",
   "name": "python3"
  },
  "language_info": {
   "codemirror_mode": {
    "name": "ipython",
    "version": 3
   },
   "file_extension": ".py",
   "mimetype": "text/x-python",
   "name": "python",
   "nbconvert_exporter": "python",
   "pygments_lexer": "ipython3",
   "version": "3.10.8"
  }
 },
 "nbformat": 4,
 "nbformat_minor": 5
}
